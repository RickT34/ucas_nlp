{
 "cells": [
  {
   "cell_type": "code",
   "execution_count": 3,
   "id": "26c9c66f",
   "metadata": {},
   "outputs": [],
   "source": [
    "from env import *"
   ]
  },
  {
   "cell_type": "code",
   "execution_count": 4,
   "id": "640b4cbf",
   "metadata": {},
   "outputs": [
    {
     "name": "stderr",
     "output_type": "stream",
     "text": [
      "/tmp/ipykernel_127679/3131951088.py:1: FutureWarning: You are using `torch.load` with `weights_only=False` (the current default value), which uses the default pickle module implicitly. It is possible to construct malicious pickle data which will execute arbitrary code during unpickling (See https://github.com/pytorch/pytorch/blob/main/SECURITY.md#untrusted-models for more details). In a future release, the default value for `weights_only` will be flipped to `True`. This limits the functions that could be executed during unpickling. Arbitrary objects will no longer be allowed to be loaded via this mode unless they are explicitly allowlisted by the user via `torch.serialization.add_safe_globals`. We recommend you start setting `weights_only=True` for any use case where you don't have full control of the loaded file. Please open an issue on GitHub for any issues related to this experimental feature.\n",
      "  words = torch.load(PATH_WORDS)\n",
      "/tmp/ipykernel_127679/3131951088.py:2: FutureWarning: You are using `torch.load` with `weights_only=False` (the current default value), which uses the default pickle module implicitly. It is possible to construct malicious pickle data which will execute arbitrary code during unpickling (See https://github.com/pytorch/pytorch/blob/main/SECURITY.md#untrusted-models for more details). In a future release, the default value for `weights_only` will be flipped to `True`. This limits the functions that could be executed during unpickling. Arbitrary objects will no longer be allowed to be loaded via this mode unless they are explicitly allowlisted by the user via `torch.serialization.add_safe_globals`. We recommend you start setting `weights_only=True` for any use case where you don't have full control of the loaded file. Please open an issue on GitHub for any issues related to this experimental feature.\n",
      "  dictionary = torch.load(PATH_DICT)\n"
     ]
    }
   ],
   "source": [
    "words = torch.load(PATH_WORDS)\n",
    "dictionary = torch.load(PATH_DICT)"
   ]
  },
  {
   "cell_type": "code",
   "execution_count": 39,
   "id": "4b2f93e7",
   "metadata": {},
   "outputs": [
    {
     "name": "stderr",
     "output_type": "stream",
     "text": [
      "/tmp/ipykernel_127679/965816816.py:2: FutureWarning: You are using `torch.load` with `weights_only=False` (the current default value), which uses the default pickle module implicitly. It is possible to construct malicious pickle data which will execute arbitrary code during unpickling (See https://github.com/pytorch/pytorch/blob/main/SECURITY.md#untrusted-models for more details). In a future release, the default value for `weights_only` will be flipped to `True`. This limits the functions that could be executed during unpickling. Arbitrary objects will no longer be allowed to be loaded via this mode unless they are explicitly allowlisted by the user via `torch.serialization.add_safe_globals`. We recommend you start setting `weights_only=True` for any use case where you don't have full control of the loaded file. Please open an issue on GitHub for any issues related to this experimental feature.\n",
      "  model_params = torch.load(DIR_DATA / (MODEL_NAMES[0]+'.pth'))\n"
     ]
    },
    {
     "data": {
      "text/plain": [
       "odict_keys(['embedding.weight', 'fnn.0.weight', 'fnn.0.bias', 'fnn.2.weight', 'fnn.2.bias'])"
      ]
     },
     "execution_count": 39,
     "metadata": {},
     "output_type": "execute_result"
    }
   ],
   "source": [
    "MODEL_NAMES = ('FNN', 'LSTM', 'RNN')\n",
    "model_params = torch.load(DIR_DATA / (MODEL_NAMES[0]+'.pth'))\n",
    "model_params.keys()"
   ]
  },
  {
   "cell_type": "code",
   "execution_count": 40,
   "id": "78f12197",
   "metadata": {},
   "outputs": [],
   "source": [
    "emb = model_params['embedding.weight'].detach()"
   ]
  },
  {
   "cell_type": "code",
   "execution_count": 41,
   "id": "2b562c00",
   "metadata": {},
   "outputs": [
    {
     "data": {
      "text/plain": [
       "torch.Size([2048, 16])"
      ]
     },
     "execution_count": 41,
     "metadata": {},
     "output_type": "execute_result"
    }
   ],
   "source": [
    "emb.shape"
   ]
  },
  {
   "cell_type": "code",
   "execution_count": 42,
   "id": "53779188",
   "metadata": {},
   "outputs": [],
   "source": [
    "def cosine_similarity(x):\n",
    "    return x @ emb.T / (torch.norm(x) * torch.norm(emb, dim=1))"
   ]
  },
  {
   "cell_type": "code",
   "execution_count": 43,
   "id": "c338f5ec",
   "metadata": {},
   "outputs": [],
   "source": [
    "def check_word(id: int, p=10):\n",
    "    print(words[id])\n",
    "    res = cosine_similarity(emb[id,:])\n",
    "    args = res.argsort(descending=True)\n",
    "    for i in range(1, p+1):\n",
    "        print(words[args[i]], res[args[i]].item())"
   ]
  },
  {
   "cell_type": "code",
   "execution_count": 53,
   "id": "7453e6f9",
   "metadata": {},
   "outputs": [
    {
     "name": "stdout",
     "output_type": "stream",
     "text": [
      "上\n",
      "中 0.8880152702331543\n",
      "里 0.8770261406898499\n",
      "下 0.8452188372612\n",
      "后 0.8395524621009827\n",
      "那里 0.8089621067047119\n",
      "之前 0.7846749424934387\n",
      "时 0.7616367936134338\n",
      "前 0.7423236966133118\n",
      "以前 0.7176926136016846\n",
      "以后 0.712702751159668\n"
     ]
    }
   ],
   "source": [
    "check_word(50)"
   ]
  },
  {
   "cell_type": "code",
   "execution_count": null,
   "id": "ca5dde6f",
   "metadata": {},
   "outputs": [],
   "source": []
  }
 ],
 "metadata": {
  "kernelspec": {
   "display_name": "Python 3",
   "language": "python",
   "name": "python3"
  },
  "language_info": {
   "codemirror_mode": {
    "name": "ipython",
    "version": 3
   },
   "file_extension": ".py",
   "mimetype": "text/x-python",
   "name": "python",
   "nbconvert_exporter": "python",
   "pygments_lexer": "ipython3",
   "version": "3.12.8"
  }
 },
 "nbformat": 4,
 "nbformat_minor": 5
}
